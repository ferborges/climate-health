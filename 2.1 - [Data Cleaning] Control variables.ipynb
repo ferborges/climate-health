{
 "cells": [
  {
   "cell_type": "code",
   "execution_count": 98,
   "metadata": {
    "collapsed": true
   },
   "outputs": [],
   "source": [
    "import pandas as pd\n",
    "import numpy as np\n",
    "import matplotlib.pyplot as plt\n",
    "%matplotlib inline\n",
    "import seaborn as sns"
   ]
  },
  {
   "cell_type": "code",
   "execution_count": 99,
   "metadata": {},
   "outputs": [
    {
     "name": "stderr",
     "output_type": "stream",
     "text": [
      "c:\\users\\hideki\\appdata\\local\\programs\\python\\python36\\lib\\site-packages\\IPython\\core\\interactiveshell.py:2698: DtypeWarning: Columns (15,17) have mixed types. Specify dtype option on import or set low_memory=False.\n",
      "  interactivity=interactivity, compiler=compiler, result=result)\n"
     ]
    },
    {
     "name": "stdout",
     "output_type": "stream",
     "text": [
      "21251\n",
      "2556\n"
     ]
    }
   ],
   "source": [
    "# Importing base_111 file\n",
    "base = pd.read_csv(\"base_111.csv\", encoding=\"latin-1\")\n",
    "# base2 = pd.read_csv(\"base_222.csv\", encoding=\"latin-1\")\n",
    "# base265 = pd.read_csv(\"base_265.csv\", encoding=\"latin-1\")\n",
    "dup_init = base.shape[0]\n",
    "base = base.drop_duplicates()\n",
    "dup_final = base.shape[0]\n",
    "print(dup_init - dup_final)\n",
    "\n",
    "\n",
    "cod_init = base.shape[0]\n",
    "base = base[base['COD'] == 111]\n",
    "cod_final = base.shape[0]\n",
    "print(cod_init - cod_final)"
   ]
  },
  {
   "cell_type": "code",
   "execution_count": 58,
   "metadata": {
    "scrolled": false
   },
   "outputs": [
    {
     "data": {
      "image/png": "[encoded data removed]",
      "text/plain": [
       "<matplotlib.figure.Figure at 0x18e3015b5c0>"
      ]
     },
     "metadata": {},
     "output_type": "display_data"
    }
   ],
   "source": [
    "volumetry = base.drop_duplicates().groupby('YEAR').agg({'DAY365': 'count'}).reset_index()\n",
    "\n",
    "fig = plt.figure(figsize=(12, 6))\n",
    "# plt.title(\"Volumetria base original\")\n",
    "N = np.arange(len(volumetry['DAY365']))\n",
    "plt.bar(N,volumetry['DAY365'].values)\n",
    "plt.xticks(N,volumetry['YEAR'],rotation = 45)\n",
    "# plt.savefig(\"fig/CEPAGRI_volumetria\")\n",
    "plt.show()"
   ]
  },
  {
   "cell_type": "code",
   "execution_count": 115,
   "metadata": {
    "scrolled": true
   },
   "outputs": [
    {
     "name": "stdout",
     "output_type": "stream",
     "text": [
      "The year 1998.0 has 49 missing days \n",
      "The year 2000.0 has 2 missing days \n",
      "The year 2001.0 has 24 missing days \n",
      "The year 2002.0 has 1 missing days \n",
      "The year 2006.0 has 9 missing days \n",
      "The year 2007.0 has 7 missing days \n",
      "The year 2019.0 has 364 missing days \n",
      "The year 2039.0 has 364 missing days \n",
      "The year 2126.0 has 364 missing days \n",
      "The year 2139.0 has 364 missing days \n",
      "The year 2013.0 has 1 missing days \n",
      "The year 2015.0 has 4 missing days \n",
      "The year 2017.0 has 7 missing days \n",
      "The year 2018.0 has 2 missing days \n"
     ]
    }
   ],
   "source": [
    "missing_years = []\n",
    "for v in base['YEAR'].unique():\n",
    "    if(base[base['YEAR'] == v]['DAY365'].nunique() < 365):\n",
    "        print(f\"The year {v} has {365 - base[base['YEAR'] == v]['DAY365'].nunique()} missing days \")\n",
    "        if(v < 2019):\n",
    "            missing_years.append(v)"
   ]
  },
  {
   "cell_type": "markdown",
   "metadata": {},
   "source": [
    "So years 1998. 2000, 2001, 2002, 2006, 2007, 2013, 2015, 2017 and 2018 doesn't have all days"
   ]
  },
  {
   "cell_type": "code",
   "execution_count": 113,
   "metadata": {},
   "outputs": [
    {
     "data": {
      "text/plain": [
       "52560"
      ]
     },
     "execution_count": 113,
     "metadata": {},
     "output_type": "execute_result"
    }
   ],
   "source": [
    "24*6*365"
   ]
  },
  {
   "cell_type": "code",
   "execution_count": 114,
   "metadata": {},
   "outputs": [
    {
     "data": {
      "text/plain": [
       "144"
      ]
     },
     "execution_count": 114,
     "metadata": {},
     "output_type": "execute_result"
    }
   ],
   "source": [
    "24*6"
   ]
  },
  {
   "cell_type": "code",
   "execution_count": 110,
   "metadata": {},
   "outputs": [
    {
     "name": "stdout",
     "output_type": "stream",
     "text": [
      "Year: 1998.0 missing days: [47, 48, 49, 50, 51, 52, 53, 54, 55, 56, 57, 58, 59, 60, 61, 62, 63, 64, 65, 66, 67, 68, 69, 70, 71, 72, 73, 74, 75, 76, 77, 78, 79, 80, 81, 82, 83, 84, 85, 86, 87, 88, 89, 90, 91, 92, 93, 94, 95]\n",
      "Year: 2000.0 missing days: [361, 362, 365]\n",
      "Year: 2001.0 missing days: [1, 259, 260, 261, 262, 263, 264, 265, 266, 267, 268, 269, 270, 271, 272, 273, 274, 275, 276, 277, 278, 279, 280, 281]\n",
      "Year: 2002.0 missing days: [253]\n",
      "Year: 2006.0 missing days: [144, 145, 146, 147, 148, 149, 150, 151, 152]\n",
      "Year: 2007.0 missing days: [319, 320, 321, 322, 323, 324, 325]\n",
      "Year: 2013.0 missing days: [209]\n",
      "Year: 2015.0 missing days: [17, 18, 172, 173]\n",
      "Year: 2017.0 missing days: [70, 71, 119, 120, 121, 122, 124]\n",
      "Year: 2018.0 missing days: [300, 301]\n"
     ]
    }
   ],
   "source": [
    "missing_days = []\n",
    "for y in missing_years:\n",
    "    missing_days.append([i for i in np.arange(1,366) if i not in base[base['YEAR'] == y].DAY365.unique()])\n",
    "    print(f\"Year: {y} missing days: {[i for i in np.arange(1,366) if i not in base[base['YEAR'] == y].DAY365.unique()]}\")"
   ]
  },
  {
   "cell_type": "markdown",
   "metadata": {},
   "source": [
    "# Describe data"
   ]
  },
  {
   "cell_type": "code",
   "execution_count": 60,
   "metadata": {},
   "outputs": [
    {
     "data": {
      "text/plain": [
       "(1138228, 18)"
      ]
     },
     "execution_count": 60,
     "metadata": {},
     "output_type": "execute_result"
    }
   ],
   "source": [
    "base.shape"
   ]
  },
  {
   "cell_type": "code",
   "execution_count": 61,
   "metadata": {},
   "outputs": [
    {
     "data": {
      "text/html": [
       "<div>\n",
       "<style>\n",
       "    .dataframe thead tr:only-child th {\n",
       "        text-align: right;\n",
       "    }\n",
       "\n",
       "    .dataframe thead th {\n",
       "        text-align: left;\n",
       "    }\n",
       "\n",
       "    .dataframe tbody tr th {\n",
       "        vertical-align: top;\n",
       "    }\n",
       "</style>\n",
       "<table border=\"1\" class=\"dataframe\">\n",
       "  <thead>\n",
       "    <tr style=\"text-align: right;\">\n",
       "      <th></th>\n",
       "      <th>COD</th>\n",
       "      <th>YEAR</th>\n",
       "      <th>DAY365</th>\n",
       "      <th>MINUTE2400</th>\n",
       "      <th>N_WNDVEL_5M</th>\n",
       "      <th>N_WNDVEL_2M</th>\n",
       "      <th>N_WNDDIR_DEGREE</th>\n",
       "      <th>N_INCRAD_10MSR</th>\n",
       "      <th>N_REFRAD_10MSR</th>\n",
       "      <th>N_PHTFLOW_10MSR</th>\n",
       "      <th>N_NHTFLOW_10MSR</th>\n",
       "      <th>N_AIRMTR_PCT10</th>\n",
       "      <th>N_AIRTMP_MED10</th>\n",
       "      <th>N_GRDTMP_3CM</th>\n",
       "      <th>N_GRDTMP_6CM</th>\n",
       "      <th>N_PRESSION_HPA</th>\n",
       "    </tr>\n",
       "  </thead>\n",
       "  <tbody>\n",
       "    <tr>\n",
       "      <th>count</th>\n",
       "      <td>1138228.0</td>\n",
       "      <td>1.138228e+06</td>\n",
       "      <td>1.138228e+06</td>\n",
       "      <td>1.138228e+06</td>\n",
       "      <td>1.138228e+06</td>\n",
       "      <td>1.138228e+06</td>\n",
       "      <td>1.138228e+06</td>\n",
       "      <td>1.138228e+06</td>\n",
       "      <td>1.138228e+06</td>\n",
       "      <td>1.138228e+06</td>\n",
       "      <td>1.138228e+06</td>\n",
       "      <td>1.138227e+06</td>\n",
       "      <td>1.138227e+06</td>\n",
       "      <td>1.138227e+06</td>\n",
       "      <td>1.138227e+06</td>\n",
       "      <td>1.138227e+06</td>\n",
       "    </tr>\n",
       "    <tr>\n",
       "      <th>mean</th>\n",
       "      <td>111.0</td>\n",
       "      <td>2.007567e+03</td>\n",
       "      <td>1.834570e+02</td>\n",
       "      <td>1.191838e+03</td>\n",
       "      <td>1.338263e+03</td>\n",
       "      <td>8.314822e+02</td>\n",
       "      <td>2.618663e+02</td>\n",
       "      <td>7.067442e+02</td>\n",
       "      <td>2.609247e+02</td>\n",
       "      <td>3.430510e+02</td>\n",
       "      <td>-2.136187e+03</td>\n",
       "      <td>7.328247e+01</td>\n",
       "      <td>2.550711e+01</td>\n",
       "      <td>1.834196e+03</td>\n",
       "      <td>1.804436e+03</td>\n",
       "      <td>9.460472e+02</td>\n",
       "    </tr>\n",
       "    <tr>\n",
       "      <th>std</th>\n",
       "      <td>0.0</td>\n",
       "      <td>6.320072e+00</td>\n",
       "      <td>1.054385e+02</td>\n",
       "      <td>6.928361e+02</td>\n",
       "      <td>1.358013e+03</td>\n",
       "      <td>1.112740e+03</td>\n",
       "      <td>6.423705e+02</td>\n",
       "      <td>1.551437e+03</td>\n",
       "      <td>8.563209e+02</td>\n",
       "      <td>1.135954e+03</td>\n",
       "      <td>3.071974e+03</td>\n",
       "      <td>2.626834e+01</td>\n",
       "      <td>2.306265e+02</td>\n",
       "      <td>3.060298e+03</td>\n",
       "      <td>3.042039e+03</td>\n",
       "      <td>7.980961e+01</td>\n",
       "    </tr>\n",
       "    <tr>\n",
       "      <th>min</th>\n",
       "      <td>111.0</td>\n",
       "      <td>1.997000e+03</td>\n",
       "      <td>-5.336000e+01</td>\n",
       "      <td>1.000000e+01</td>\n",
       "      <td>-6.999000e+03</td>\n",
       "      <td>0.000000e+00</td>\n",
       "      <td>0.000000e+00</td>\n",
       "      <td>-6.999000e+03</td>\n",
       "      <td>0.000000e+00</td>\n",
       "      <td>0.000000e+00</td>\n",
       "      <td>-6.999000e+03</td>\n",
       "      <td>-6.999000e+03</td>\n",
       "      <td>-6.999000e+03</td>\n",
       "      <td>-6.999000e+03</td>\n",
       "      <td>-6.999000e+03</td>\n",
       "      <td>-6.999000e+03</td>\n",
       "    </tr>\n",
       "    <tr>\n",
       "      <th>25%</th>\n",
       "      <td>111.0</td>\n",
       "      <td>2.002000e+03</td>\n",
       "      <td>9.300000e+01</td>\n",
       "      <td>6.100000e+02</td>\n",
       "      <td>1.010000e+00</td>\n",
       "      <td>5.390000e-01</td>\n",
       "      <td>9.450000e+01</td>\n",
       "      <td>0.000000e+00</td>\n",
       "      <td>0.000000e+00</td>\n",
       "      <td>0.000000e+00</td>\n",
       "      <td>-6.999000e+03</td>\n",
       "      <td>5.973000e+01</td>\n",
       "      <td>1.817000e+01</td>\n",
       "      <td>2.092000e+01</td>\n",
       "      <td>2.158000e+01</td>\n",
       "      <td>9.420000e+02</td>\n",
       "    </tr>\n",
       "    <tr>\n",
       "      <th>50%</th>\n",
       "      <td>111.0</td>\n",
       "      <td>2.008000e+03</td>\n",
       "      <td>1.840000e+02</td>\n",
       "      <td>1.210000e+03</td>\n",
       "      <td>1.285000e+03</td>\n",
       "      <td>1.253000e+00</td>\n",
       "      <td>1.554000e+02</td>\n",
       "      <td>0.000000e+00</td>\n",
       "      <td>0.000000e+00</td>\n",
       "      <td>0.000000e+00</td>\n",
       "      <td>-2.749000e+02</td>\n",
       "      <td>7.660000e+01</td>\n",
       "      <td>2.114000e+01</td>\n",
       "      <td>2.526000e+01</td>\n",
       "      <td>2.556000e+01</td>\n",
       "      <td>9.460000e+02</td>\n",
       "    </tr>\n",
       "    <tr>\n",
       "      <th>75%</th>\n",
       "      <td>111.0</td>\n",
       "      <td>2.013000e+03</td>\n",
       "      <td>2.750000e+02</td>\n",
       "      <td>1.810000e+03</td>\n",
       "      <td>2.187000e+03</td>\n",
       "      <td>1.594000e+03</td>\n",
       "      <td>2.531000e+02</td>\n",
       "      <td>3.541250e+02</td>\n",
       "      <td>1.563000e+01</td>\n",
       "      <td>9.940000e+01</td>\n",
       "      <td>0.000000e+00</td>\n",
       "      <td>8.840000e+01</td>\n",
       "      <td>2.511000e+01</td>\n",
       "      <td>6.999000e+03</td>\n",
       "      <td>6.999000e+03</td>\n",
       "      <td>9.510000e+02</td>\n",
       "    </tr>\n",
       "    <tr>\n",
       "      <th>max</th>\n",
       "      <td>111.0</td>\n",
       "      <td>2.139000e+03</td>\n",
       "      <td>6.540000e+02</td>\n",
       "      <td>6.640000e+03</td>\n",
       "      <td>6.996000e+03</td>\n",
       "      <td>6.999000e+03</td>\n",
       "      <td>6.999000e+03</td>\n",
       "      <td>6.999000e+03</td>\n",
       "      <td>6.999000e+03</td>\n",
       "      <td>6.999000e+03</td>\n",
       "      <td>0.000000e+00</td>\n",
       "      <td>6.836000e+03</td>\n",
       "      <td>1.822660e+05</td>\n",
       "      <td>6.999000e+03</td>\n",
       "      <td>6.999000e+03</td>\n",
       "      <td>2.802000e+03</td>\n",
       "    </tr>\n",
       "  </tbody>\n",
       "</table>\n",
       "</div>"
      ],
      "text/plain": [
       "             COD          YEAR        DAY365    MINUTE2400   N_WNDVEL_5M  \\\n",
       "count  1138228.0  1.138228e+06  1.138228e+06  1.138228e+06  1.138228e+06   \n",
       "mean       111.0  2.007567e+03  1.834570e+02  1.191838e+03  1.338263e+03   \n",
       "std          0.0  6.320072e+00  1.054385e+02  6.928361e+02  1.358013e+03   \n",
       "min        111.0  1.997000e+03 -5.336000e+01  1.000000e+01 -6.999000e+03   \n",
       "25%        111.0  2.002000e+03  9.300000e+01  6.100000e+02  1.010000e+00   \n",
       "50%        111.0  2.008000e+03  1.840000e+02  1.210000e+03  1.285000e+03   \n",
       "75%        111.0  2.013000e+03  2.750000e+02  1.810000e+03  2.187000e+03   \n",
       "max        111.0  2.139000e+03  6.540000e+02  6.640000e+03  6.996000e+03   \n",
       "\n",
       "        N_WNDVEL_2M  N_WNDDIR_DEGREE  N_INCRAD_10MSR  N_REFRAD_10MSR  \\\n",
       "count  1.138228e+06     1.138228e+06    1.138228e+06    1.138228e+06   \n",
       "mean   8.314822e+02     2.618663e+02    7.067442e+02    2.609247e+02   \n",
       "std    1.112740e+03     6.423705e+02    1.551437e+03    8.563209e+02   \n",
       "min    0.000000e+00     0.000000e+00   -6.999000e+03    0.000000e+00   \n",
       "25%    5.390000e-01     9.450000e+01    0.000000e+00    0.000000e+00   \n",
       "50%    1.253000e+00     1.554000e+02    0.000000e+00    0.000000e+00   \n",
       "75%    1.594000e+03     2.531000e+02    3.541250e+02    1.563000e+01   \n",
       "max    6.999000e+03     6.999000e+03    6.999000e+03    6.999000e+03   \n",
       "\n",
       "       N_PHTFLOW_10MSR  N_NHTFLOW_10MSR  N_AIRMTR_PCT10  N_AIRTMP_MED10  \\\n",
       "count     1.138228e+06     1.138228e+06    1.138227e+06    1.138227e+06   \n",
       "mean      3.430510e+02    -2.136187e+03    7.328247e+01    2.550711e+01   \n",
       "std       1.135954e+03     3.071974e+03    2.626834e+01    2.306265e+02   \n",
       "min       0.000000e+00    -6.999000e+03   -6.999000e+03   -6.999000e+03   \n",
       "25%       0.000000e+00    -6.999000e+03    5.973000e+01    1.817000e+01   \n",
       "50%       0.000000e+00    -2.749000e+02    7.660000e+01    2.114000e+01   \n",
       "75%       9.940000e+01     0.000000e+00    8.840000e+01    2.511000e+01   \n",
       "max       6.999000e+03     0.000000e+00    6.836000e+03    1.822660e+05   \n",
       "\n",
       "       N_GRDTMP_3CM  N_GRDTMP_6CM  N_PRESSION_HPA  \n",
       "count  1.138227e+06  1.138227e+06    1.138227e+06  \n",
       "mean   1.834196e+03  1.804436e+03    9.460472e+02  \n",
       "std    3.060298e+03  3.042039e+03    7.980961e+01  \n",
       "min   -6.999000e+03 -6.999000e+03   -6.999000e+03  \n",
       "25%    2.092000e+01  2.158000e+01    9.420000e+02  \n",
       "50%    2.526000e+01  2.556000e+01    9.460000e+02  \n",
       "75%    6.999000e+03  6.999000e+03    9.510000e+02  \n",
       "max    6.999000e+03  6.999000e+03    2.802000e+03  "
      ]
     },
     "execution_count": 61,
     "metadata": {},
     "output_type": "execute_result"
    }
   ],
   "source": [
    "base.describe()"
   ]
  },
  {
   "cell_type": "markdown",
   "metadata": {},
   "source": [
    "Here we can see that there are a few values inconsistent, like negative value for \"Day's variable\""
   ]
  },
  {
   "cell_type": "code",
   "execution_count": 62,
   "metadata": {},
   "outputs": [
    {
     "data": {
      "text/plain": [
       "2"
      ]
     },
     "execution_count": 62,
     "metadata": {},
     "output_type": "execute_result"
    }
   ],
   "source": [
    "#Counting 0 value for Day variable\n",
    "base[base['DAY365'] <1 ]['YEAR'].nunique()"
   ]
  },
  {
   "cell_type": "code",
   "execution_count": 63,
   "metadata": {},
   "outputs": [
    {
     "data": {
      "text/plain": [
       "array([-53.36,   0.  ])"
      ]
     },
     "execution_count": 63,
     "metadata": {},
     "output_type": "execute_result"
    }
   ],
   "source": [
    "#Looking these values\n",
    "base[base['DAY365'] <1 ]['DAY365'].unique()"
   ]
  },
  {
   "cell_type": "code",
   "execution_count": 64,
   "metadata": {},
   "outputs": [
    {
     "data": {
      "text/plain": [
       "array([ 2019.,  2000.])"
      ]
     },
     "execution_count": 64,
     "metadata": {},
     "output_type": "execute_result"
    }
   ],
   "source": [
    "#Looking which Years tehse inconsistent values exist\n",
    "base[base['DAY365'] <1 ]['YEAR'].unique()"
   ]
  },
  {
   "cell_type": "markdown",
   "metadata": {},
   "source": [
    "Also there are values above 366 in Day Variable"
   ]
  },
  {
   "cell_type": "code",
   "execution_count": 65,
   "metadata": {},
   "outputs": [
    {
     "data": {
      "text/plain": [
       "array([ 388.,  654.])"
      ]
     },
     "execution_count": 65,
     "metadata": {},
     "output_type": "execute_result"
    }
   ],
   "source": [
    "#Looking\n",
    "base[base['DAY365'] > 366 ]['DAY365'].unique()"
   ]
  },
  {
   "cell_type": "code",
   "execution_count": 66,
   "metadata": {},
   "outputs": [
    {
     "data": {
      "text/plain": [
       "array([ 2039.,  2139.])"
      ]
     },
     "execution_count": 66,
     "metadata": {},
     "output_type": "execute_result"
    }
   ],
   "source": [
    "#Looking years of occurence\n",
    "base[base['DAY365'] > 366 ]['YEAR'].unique()"
   ]
  },
  {
   "cell_type": "markdown",
   "metadata": {},
   "source": [
    "Since out datasets are from 1997 to 2017 values above 2017 are also inconsistent"
   ]
  },
  {
   "cell_type": "code",
   "execution_count": 67,
   "metadata": {},
   "outputs": [
    {
     "data": {
      "text/plain": [
       "4"
      ]
     },
     "execution_count": 67,
     "metadata": {},
     "output_type": "execute_result"
    }
   ],
   "source": [
    "#Couting inconsistent values\n",
    "base[base['YEAR']> 2018]['YEAR'].nunique()"
   ]
  },
  {
   "cell_type": "code",
   "execution_count": 68,
   "metadata": {},
   "outputs": [
    {
     "data": {
      "text/plain": [
       "array([ 2019.,  2039.,  2126.,  2139.])"
      ]
     },
     "execution_count": 68,
     "metadata": {},
     "output_type": "execute_result"
    }
   ],
   "source": [
    "#Looking these values\n",
    "base[base['YEAR']> 2018]['YEAR'].unique()"
   ]
  },
  {
   "cell_type": "markdown",
   "metadata": {},
   "source": [
    "Other variable with directly notable inconsistent values is \"Hora - Minuto\" that is hour variable, it is limited from 0 to 2400"
   ]
  },
  {
   "cell_type": "code",
   "execution_count": 69,
   "metadata": {},
   "outputs": [
    {
     "data": {
      "text/plain": [
       "1"
      ]
     },
     "execution_count": 69,
     "metadata": {},
     "output_type": "execute_result"
    }
   ],
   "source": [
    "#counting\n",
    "base[base['MINUTE2400']> 2400]['MINUTE2400'].nunique()"
   ]
  },
  {
   "cell_type": "code",
   "execution_count": 70,
   "metadata": {},
   "outputs": [
    {
     "data": {
      "text/plain": [
       "array([ 6640.])"
      ]
     },
     "execution_count": 70,
     "metadata": {},
     "output_type": "execute_result"
    }
   ],
   "source": [
    "#looking\n",
    "base[base['MINUTE2400']> 2400]['MINUTE2400'].unique()"
   ]
  },
  {
   "cell_type": "markdown",
   "metadata": {},
   "source": [
    "All these values will be tagged to future treatment"
   ]
  },
  {
   "cell_type": "markdown",
   "metadata": {},
   "source": [
    "# Missing values"
   ]
  },
  {
   "cell_type": "code",
   "execution_count": 71,
   "metadata": {},
   "outputs": [
    {
     "data": {
      "text/plain": [
       "COD                0\n",
       "YEAR               0\n",
       "DAY365             0\n",
       "MINUTE2400         0\n",
       "N_WNDVEL_5M        0\n",
       "N_WNDVEL_2M        0\n",
       "N_WNDDIR_DEGREE    0\n",
       "N_INCRAD_10MSR     0\n",
       "N_REFRAD_10MSR     0\n",
       "N_PHTFLOW_10MSR    0\n",
       "N_NHTFLOW_10MSR    0\n",
       "N_AIRMTR_PCT10     1\n",
       "N_AIRTMP_MED10     1\n",
       "N_GRDTMP_3CM       1\n",
       "N_GRDTMP_6CM       1\n",
       "N_GRDTMP_UV        1\n",
       "N_PRESSION_HPA     1\n",
       "N_RAIN_SUM10       1\n",
       "dtype: int64"
      ]
     },
     "execution_count": 71,
     "metadata": {},
     "output_type": "execute_result"
    }
   ],
   "source": [
    "base.isnull().sum()"
   ]
  },
  {
   "cell_type": "code",
   "execution_count": 72,
   "metadata": {},
   "outputs": [
    {
     "data": {
      "text/plain": [
       "7"
      ]
     },
     "execution_count": 72,
     "metadata": {},
     "output_type": "execute_result"
    }
   ],
   "source": [
    "#Counting all\n",
    "base.isnull().sum().sum()"
   ]
  },
  {
   "cell_type": "markdown",
   "metadata": {},
   "source": [
    "These values will be also tagged later"
   ]
  },
  {
   "cell_type": "markdown",
   "metadata": {},
   "source": [
    "# Fixing inconsistent values"
   ]
  },
  {
   "cell_type": "code",
   "execution_count": 73,
   "metadata": {
    "collapsed": true
   },
   "outputs": [],
   "source": [
    "#Function to fix year variable\n",
    "def fix_year(anos):\n",
    "    if(anos in [2019, 2039, 2126, 2139]):\n",
    "        return -999\n",
    "    else:\n",
    "        return anos"
   ]
  },
  {
   "cell_type": "code",
   "execution_count": 74,
   "metadata": {
    "collapsed": true
   },
   "outputs": [],
   "source": [
    "base['YEAR'] = base['YEAR'].map(fix_year)"
   ]
  },
  {
   "cell_type": "code",
   "execution_count": 75,
   "metadata": {
    "collapsed": true
   },
   "outputs": [],
   "source": [
    "#Function to fix hour variable\n",
    "def fix_hour(hours):\n",
    "    if(hours == 6640):\n",
    "        return -999\n",
    "    else:\n",
    "        return hours"
   ]
  },
  {
   "cell_type": "code",
   "execution_count": 76,
   "metadata": {
    "collapsed": true
   },
   "outputs": [],
   "source": [
    "base[\"MINUTE2400\"] = base[\"MINUTE2400\"].map(fix_hour)"
   ]
  },
  {
   "cell_type": "code",
   "execution_count": 77,
   "metadata": {
    "collapsed": true
   },
   "outputs": [],
   "source": [
    "#Function to fix day variable\n",
    "def fix_day(days):\n",
    "    if((days<1) | (days > 366)):\n",
    "        return -999\n",
    "    else:\n",
    "        return days"
   ]
  },
  {
   "cell_type": "code",
   "execution_count": 78,
   "metadata": {
    "collapsed": true
   },
   "outputs": [],
   "source": [
    "base[\"DAY365\"] = base[\"DAY365\"].map(fix_day)"
   ]
  },
  {
   "cell_type": "code",
   "execution_count": 79,
   "metadata": {
    "collapsed": true
   },
   "outputs": [],
   "source": [
    "base = base.dropna();"
   ]
  },
  {
   "cell_type": "code",
   "execution_count": 80,
   "metadata": {},
   "outputs": [
    {
     "data": {
      "text/plain": [
       "(1138227, 18)"
      ]
     },
     "execution_count": 80,
     "metadata": {},
     "output_type": "execute_result"
    }
   ],
   "source": [
    "base.shape"
   ]
  },
  {
   "cell_type": "markdown",
   "metadata": {},
   "source": [
    "# Checking data consistency"
   ]
  },
  {
   "cell_type": "code",
   "execution_count": 81,
   "metadata": {},
   "outputs": [
    {
     "data": {
      "text/plain": [
       "COD                0\n",
       "YEAR               0\n",
       "DAY365             0\n",
       "MINUTE2400         0\n",
       "N_WNDVEL_5M        0\n",
       "N_WNDVEL_2M        0\n",
       "N_WNDDIR_DEGREE    0\n",
       "N_INCRAD_10MSR     0\n",
       "N_REFRAD_10MSR     0\n",
       "N_PHTFLOW_10MSR    0\n",
       "N_NHTFLOW_10MSR    0\n",
       "N_AIRMTR_PCT10     0\n",
       "N_AIRTMP_MED10     0\n",
       "N_GRDTMP_3CM       0\n",
       "N_GRDTMP_6CM       0\n",
       "N_GRDTMP_UV        0\n",
       "N_PRESSION_HPA     0\n",
       "N_RAIN_SUM10       0\n",
       "dtype: int64"
      ]
     },
     "execution_count": 81,
     "metadata": {},
     "output_type": "execute_result"
    }
   ],
   "source": [
    "base.isnull().sum()"
   ]
  },
  {
   "cell_type": "code",
   "execution_count": 82,
   "metadata": {},
   "outputs": [
    {
     "data": {
      "text/plain": [
       "0"
      ]
     },
     "execution_count": 82,
     "metadata": {},
     "output_type": "execute_result"
    }
   ],
   "source": [
    "base[(base['DAY365'] <1 ) & (base['DAY365']!=-999)]['YEAR'].nunique()"
   ]
  },
  {
   "cell_type": "code",
   "execution_count": 83,
   "metadata": {},
   "outputs": [
    {
     "data": {
      "text/plain": [
       "0"
      ]
     },
     "execution_count": 83,
     "metadata": {},
     "output_type": "execute_result"
    }
   ],
   "source": [
    "base[base['YEAR']> 2018]['YEAR'].nunique()"
   ]
  },
  {
   "cell_type": "code",
   "execution_count": 84,
   "metadata": {},
   "outputs": [
    {
     "data": {
      "text/plain": [
       "0"
      ]
     },
     "execution_count": 84,
     "metadata": {},
     "output_type": "execute_result"
    }
   ],
   "source": [
    "base[base['MINUTE2400']> 2400]['MINUTE2400'].nunique()"
   ]
  },
  {
   "cell_type": "markdown",
   "metadata": {},
   "source": [
    "# Treatment of variables with non numerical data, where it should be"
   ]
  },
  {
   "cell_type": "code",
   "execution_count": 85,
   "metadata": {
    "collapsed": true
   },
   "outputs": [],
   "source": [
    "vars_ = base.columns"
   ]
  },
  {
   "cell_type": "code",
   "execution_count": 86,
   "metadata": {},
   "outputs": [
    {
     "name": "stdout",
     "output_type": "stream",
     "text": [
      "Theres is non numerical data in variable :  N_GRDTMP_UV\n",
      "Theres is non numerical data in variable :  N_RAIN_SUM10\n"
     ]
    }
   ],
   "source": [
    "for v in vars_: \n",
    "    try:\n",
    "        base[v] = base[v].astype(float)\n",
    "    except ValueError:\n",
    "    #Handle the exception\n",
    "        print(\"Theres is non numerical data in variable : \", v)"
   ]
  },
  {
   "cell_type": "code",
   "execution_count": 87,
   "metadata": {
    "collapsed": true
   },
   "outputs": [],
   "source": [
    "#Fixing these values\n",
    "\n",
    "base['N_GRDTMP_UV'] = pd.to_numeric(base['N_GRDTMP_UV'], errors='coerce')\n",
    "base['N_RAIN_SUM10']= pd.to_numeric(base['N_RAIN_SUM10'], errors = 'coerce')"
   ]
  },
  {
   "cell_type": "code",
   "execution_count": 88,
   "metadata": {
    "collapsed": true
   },
   "outputs": [],
   "source": [
    "base = base.dropna();"
   ]
  },
  {
   "cell_type": "code",
   "execution_count": 89,
   "metadata": {},
   "outputs": [
    {
     "data": {
      "text/plain": [
       "COD                0\n",
       "YEAR               0\n",
       "DAY365             0\n",
       "MINUTE2400         0\n",
       "N_WNDVEL_5M        0\n",
       "N_WNDVEL_2M        0\n",
       "N_WNDDIR_DEGREE    0\n",
       "N_INCRAD_10MSR     0\n",
       "N_REFRAD_10MSR     0\n",
       "N_PHTFLOW_10MSR    0\n",
       "N_NHTFLOW_10MSR    0\n",
       "N_AIRMTR_PCT10     0\n",
       "N_AIRTMP_MED10     0\n",
       "N_GRDTMP_3CM       0\n",
       "N_GRDTMP_6CM       0\n",
       "N_GRDTMP_UV        0\n",
       "N_PRESSION_HPA     0\n",
       "N_RAIN_SUM10       0\n",
       "dtype: int64"
      ]
     },
     "execution_count": 89,
     "metadata": {},
     "output_type": "execute_result"
    }
   ],
   "source": [
    "base.isnull().sum()"
   ]
  },
  {
   "cell_type": "code",
   "execution_count": 90,
   "metadata": {},
   "outputs": [
    {
     "data": {
      "text/plain": [
       "COD                  0\n",
       "YEAR               128\n",
       "DAY365             131\n",
       "MINUTE2400           1\n",
       "N_WNDVEL_5M          0\n",
       "N_WNDVEL_2M          0\n",
       "N_WNDDIR_DEGREE      0\n",
       "N_INCRAD_10MSR       0\n",
       "N_REFRAD_10MSR       0\n",
       "N_PHTFLOW_10MSR      0\n",
       "N_NHTFLOW_10MSR     17\n",
       "N_AIRMTR_PCT10       0\n",
       "N_AIRTMP_MED10       0\n",
       "N_GRDTMP_3CM         0\n",
       "N_GRDTMP_6CM         0\n",
       "N_GRDTMP_UV          0\n",
       "N_PRESSION_HPA       0\n",
       "N_RAIN_SUM10         0\n",
       "dtype: int64"
      ]
     },
     "execution_count": 90,
     "metadata": {},
     "output_type": "execute_result"
    }
   ],
   "source": [
    "((base == -1000) | (base == -999)).sum()"
   ]
  },
  {
   "cell_type": "code",
   "execution_count": 91,
   "metadata": {
    "collapsed": true
   },
   "outputs": [],
   "source": [
    "clean_base = base[((base != -1000) & (base != -999))]\n",
    "clean_base = clean_base.dropna();"
   ]
  },
  {
   "cell_type": "code",
   "execution_count": 92,
   "metadata": {
    "collapsed": true
   },
   "outputs": [],
   "source": [
    "# Here we export our main resulted dataset of this code\n",
    "clean_base['YEAR'] = clean_base['YEAR'].astype(int)\n",
    "clean_base.to_csv(\"clean_base111.csv\", index = False)"
   ]
  },
  {
   "cell_type": "code",
   "execution_count": 93,
   "metadata": {},
   "outputs": [
    {
     "data": {
      "text/plain": [
       "COD                0\n",
       "YEAR               0\n",
       "DAY365             0\n",
       "MINUTE2400         0\n",
       "N_WNDVEL_5M        0\n",
       "N_WNDVEL_2M        0\n",
       "N_WNDDIR_DEGREE    0\n",
       "N_INCRAD_10MSR     0\n",
       "N_REFRAD_10MSR     0\n",
       "N_PHTFLOW_10MSR    0\n",
       "N_NHTFLOW_10MSR    0\n",
       "N_AIRMTR_PCT10     0\n",
       "N_AIRTMP_MED10     0\n",
       "N_GRDTMP_3CM       0\n",
       "N_GRDTMP_6CM       0\n",
       "N_GRDTMP_UV        0\n",
       "N_PRESSION_HPA     0\n",
       "N_RAIN_SUM10       0\n",
       "dtype: int64"
      ]
     },
     "execution_count": 93,
     "metadata": {},
     "output_type": "execute_result"
    }
   ],
   "source": [
    "clean_base.isnull().sum()"
   ]
  },
  {
   "cell_type": "code",
   "execution_count": 94,
   "metadata": {},
   "outputs": [
    {
     "data": {
      "text/plain": [
       "(1138003, 18)"
      ]
     },
     "execution_count": 94,
     "metadata": {},
     "output_type": "execute_result"
    }
   ],
   "source": [
    "clean_base.shape"
   ]
  },
  {
   "cell_type": "code",
   "execution_count": 97,
   "metadata": {},
   "outputs": [
    {
     "data": {
      "text/plain": [
       "0.00019767568536355196"
      ]
     },
     "execution_count": 97,
     "metadata": {},
     "output_type": "execute_result"
    }
   ],
   "source": [
    "1 - 1138003/1138228"
   ]
  },
  {
   "cell_type": "code",
   "execution_count": null,
   "metadata": {
    "collapsed": true
   },
   "outputs": [],
   "source": []
  },
  {
   "cell_type": "code",
   "execution_count": null,
   "metadata": {
    "collapsed": true
   },
   "outputs": [],
   "source": []
  }
 ],
 "metadata": {
  "kernelspec": {
   "display_name": "Python 3",
   "language": "python",
   "name": "python3"
  },
  "language_info": {
   "codemirror_mode": {
    "name": "ipython",
    "version": 3
   },
   "file_extension": ".py",
   "mimetype": "text/x-python",
   "name": "python",
   "nbconvert_exporter": "python",
   "pygments_lexer": "ipython3",
   "version": "3.6.1"
  }
 },
 "nbformat": 4,
 "nbformat_minor": 2
}
